{
  "nbformat": 4,
  "nbformat_minor": 0,
  "metadata": {
    "colab": {
      "provenance": [],
      "authorship_tag": "ABX9TyMECd1CKMBQrUNoNflDsdFU",
      "include_colab_link": true
    },
    "kernelspec": {
      "name": "python3",
      "display_name": "Python 3"
    },
    "language_info": {
      "name": "python"
    }
  },
  "cells": [
    {
      "cell_type": "markdown",
      "metadata": {
        "id": "view-in-github",
        "colab_type": "text"
      },
      "source": [
        "<a href=\"https://colab.research.google.com/github/irgidev/kaggle-connect-x-agent/blob/main/00_environment_setup.ipynb\" target=\"_parent\"><img src=\"https://colab.research.google.com/assets/colab-badge.svg\" alt=\"Open In Colab\"/></a>"
      ]
    },
    {
      "cell_type": "markdown",
      "source": [
        "### Rencana Struktur Proyek ConnectX\n",
        "\n",
        "Berikut adalah struktur direktori yang akan digunakan untuk proyek ini:\n",
        "```\n",
        "connectx-agent/\n",
        "├── 📂 notebooks/\n",
        "├── 📂 src/\n",
        "├── 📂 models/\n",
        "└── 📜 README.md\n",
        "```"
      ],
      "metadata": {
        "id": "I3RuEERpCZpe"
      }
    },
    {
      "cell_type": "code",
      "execution_count": null,
      "metadata": {
        "id": "9zmR44hF9vhY"
      },
      "outputs": [],
      "source": []
    }
  ]
}